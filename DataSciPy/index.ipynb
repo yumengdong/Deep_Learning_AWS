{
 "cells": [
  {
   "cell_type": "markdown",
   "metadata": {},
   "source": [
    "![Py4Eng](sessions/img/logo.png)\n",
    "\n",
    "# Data Science with Python\n",
    "## [Yoav Ram](http://python.yoavram.com)"
   ]
  },
  {
   "cell_type": "markdown",
   "metadata": {},
   "source": [
    "## Day 1: Introduction to Machine Learning with Python\n",
    "\n",
    "- Numerical Python with NumPy: [notebook](sessions/numpy.ipynb) | [solution](solutions/numpy.ipynb)\n",
    "- Plotting with Matplotlib: [notebook](sessions/matplotlib.ipynb) | [solution](solutions/matplotlib.ipynb)\n",
    "- Data analysis with Pandas and Seaborn: [notebook](sessions/pandas-seaborn.ipynb) | [solution](solutions/pandas-seaborn.ipynb)\n",
    "- Machine learning with Scikit-learn: [notebook](sessions/scikit-learn.ipynb) | [exercise: linear model](exercises/linear-model.ipynb) | [solution](solutions/linear-model.py) | [solution: linear model](solutions/linear-model.py) | [exercise: logistic model](exercises/logistic-tennis.ipynb) | [solution: logistic model](solutions/logistic-tennis.py)\n"
   ]
  },
  {
   "cell_type": "markdown",
   "metadata": {},
   "source": [
    "## Day 2: Introduction to Deep Learning with Python\n",
    "\n",
    "- Linear Model: [notebook](sessions/linear-model.ipynb) | [exercise](exercises/linear-model.ipynb) | [solution](solutions/linear-model.py)\n",
    "- Logistic Model: [notebook](sessions/logistic-model.ipynb) | [solution](solutions/logistic-model.py) | [exercise](exercises/logistic-tennis.ipynb) | [solution](solutions/logistic-tennis.py)\n",
    "- Softmax model: [notebook](sessions/softmax-model.ipynb) | [solution](solutions/softmax-model.py) \n",
    "- Feed forward networks: [notebook](sessions/FFN.ipynb) | [solution](solutions/FFN.py) | [exercise](exercises/FFN_GenModel.ipynb) | [solution](solutions/FFN_GenModel.py)\n",
    "- Convolutional neural networks with Keras: [notebook](sessions/K_CNN.ipynb) | [exercise](exercises/CNN.ipynb) | [solution](solutions/CNN.ipynb)\n"
   ]
  },
  {
   "cell_type": "markdown",
   "metadata": {},
   "source": [
    "## Day 3: Trending Neural Networks with Keras\n",
    "\n",
    "To download data before the workshop, run `python download_data.py` in the terminal.\n",
    "\n",
    "- Pre-trained Models: [notebook](sessions/pretrained.ipynb)\n",
    "- Recurrent neural networks: [notebook](sessions/RNN.ipynb)\n",
    "- Reinforcement learning: [notebook](sessions/reinforcement.ipynb) | [exercise](exercises/reinforcement.ipynb) | [solution](solutions/reinforcement.ipynb)\n",
    "- Convolutional networks with spectral data: [notebook](sessions/audio.ipynb)  | [exercise](exercises/audio.ipynb) | [solution](solutions/audio.ipynb)\n",
    "- Generative adversarial networks: [notebook](sessions/GAN.ipynb)  | [exercise](exercises/ACGAN.ipynb) | [solution](solutions/ACGAN.ipynb)\n",
    "- Convolutional neural networks with TensorFlow: [notebook](sessions/TF_CNN.ipynb) \n",
    "\n"
   ]
  },
  {
   "cell_type": "markdown",
   "metadata": {},
   "source": [
    "## git\n",
    "\n",
    "### Check version\n",
    "To check your version of the notebooks folder, open a terminal or command line and run:\n",
    "```\n",
    "git log\n",
    "```\n",
    "The first line should have the name of the latest \"commit\" (version).\n",
    "\n",
    "### Revert version\n",
    "\n",
    "To reset all changes you made to notebooks, open a terminal or command line and run:\n",
    "```\n",
    "git reset --hard HEAD\n",
    "```\n",
    "\n",
    "### Update version\n",
    "\n",
    "To update the notebooks folder, open a terminal or command line and run:\n",
    "```\n",
    "git pull\n",
    "```"
   ]
  }
 ],
 "metadata": {
  "kernelspec": {
   "display_name": "Python [default]",
   "language": "python",
   "name": "python3"
  },
  "language_info": {
   "codemirror_mode": {
    "name": "ipython",
    "version": 3
   },
   "file_extension": ".py",
   "mimetype": "text/x-python",
   "name": "python",
   "nbconvert_exporter": "python",
   "pygments_lexer": "ipython3",
   "version": "3.6.5"
  }
 },
 "nbformat": 4,
 "nbformat_minor": 2
}
