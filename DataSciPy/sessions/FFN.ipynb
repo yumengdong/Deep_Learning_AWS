{
 "cells": [
  {
   "cell_type": "markdown",
   "metadata": {},
   "source": [
    "![Py4Eng](img/logo.png)\n",
    "\n",
    "# Feed Forward Network\n",
    "## Yoav Ram\n",
    "\n",
    "In this session we will understand:\n",
    "- what feed forward networks are and how they work,\n",
    "- how to back-propagate gradients in a multi-layer network\n",
    "- how to efficiently fit multi-layer networks using adaptive gradient descent techniques\n",
    "- how to feed backwards to generate instead of classify"
   ]
  },
  {
   "cell_type": "code",
   "execution_count": 1,
   "metadata": {},
   "outputs": [],
   "source": [
    "%matplotlib inline\n",
    "import matplotlib.pyplot as plt\n",
    "import numpy as np\n",
    "import pandas as pd\n",
    "import scipy.optimize\n",
    "from scipy.special import expit\n",
    "import scipy.misc\n",
    "import seaborn as sns\n",
    "sns.set(\n",
    "    style='ticks'\n",
    ")\n",
    "from ipywidgets import interact"
   ]
  },
  {
   "cell_type": "markdown",
   "metadata": {},
   "source": [
    "We start by loading the MNIST digits data we used in the [softmax model session](softmax-model.ipynb)."
   ]
  },
  {
   "cell_type": "code",
   "execution_count": 2,
   "metadata": {},
   "outputs": [
    {
     "name": "stderr",
     "output_type": "stream",
     "text": [
      "Using TensorFlow backend.\n"
     ]
    }
   ],
   "source": [
    "import keras\n",
    "(X_train, Y_train), (X_test, Y_test) = keras.datasets.mnist.load_data()"
   ]
  },
  {
   "cell_type": "code",
   "execution_count": 3,
   "metadata": {},
   "outputs": [],
   "source": [
    "nsamples, width, height = X_train.shape\n",
    "nfeatures = width * height\n",
    "X_train = X_train.reshape(nsamples, nfeatures)\n",
    "X_test = X_test.reshape(-1, nfeatures)"
   ]
  },
  {
   "cell_type": "code",
   "execution_count": 4,
   "metadata": {},
   "outputs": [],
   "source": [
    "# if we are already using keras, we can use it for one-hot encoding, too\n",
    "Y_train = keras.utils.to_categorical(Y_train)\n",
    "Y_test = keras.utils.to_categorical(Y_test)\n",
    "ncats = Y_test.shape[1]"
   ]
  },
  {
   "cell_type": "code",
   "execution_count": 5,
   "metadata": {},
   "outputs": [
    {
     "data": {
      "image/png": "[encoded data removed]",
      "text/plain": [
       "<Figure size 432x288 with 1 Axes>"
      ]
     },
     "metadata": {
      "image/png": {
       "height": 237,
       "width": 237
      }
     },
     "output_type": "display_data"
    }
   ],
   "source": [
    "def display_image(im):\n",
    "    plt.imshow(im.reshape((28, 28)), cmap='gray_r')\n",
    "    plt.xticks([])\n",
    "    plt.yticks([])\n",
    "    \n",
    "display_image(X_train[4])"
   ]
  },
  {
   "cell_type": "markdown",
   "metadata": {},
   "source": [
    "With softmax regression we got accuracy of ~87% (or even up to 92% if we run it longer, see the scikit-learn example).\n",
    "But we talked about the problems with logistic models and that it might be that the relationship between pixels and categories is not linear or even monotone.\n",
    "We also discussed a way to overcome this issue - polynomial features.\n",
    "\n",
    "Here we will use another solution - the layering or composition of several linear models.\n",
    "\n",
    "The idea is that for an input (features) $\\mathbf{X_1}$, the model we will use is:\n",
    "\n",
    "$$\n",
    "\\mathbf{X_2} = f_1(\\mathbf{X_1} \\cdot  \\mathbf{W_1}) \\\\\n",
    "\\mathbf{X_3} = f_2(\\mathbf{X_2} \\cdot  \\mathbf{W_2}) \\\\\n",
    "\\ldots \\\\\n",
    "\\mathbf{\\widehat Y} = f_{n}(\\mathbf{X_n})\n",
    "$$\n",
    "\n",
    "We will fit this model to the data by looking for $\\mathbf{W_1}, \\ldots, \\mathbf{W_n}$ that give us a good prediction.\n",
    "\n",
    "This kind of model is called a **feed forward network**."
   ]
  },
  {
   "cell_type": "markdown",
   "metadata": {},
   "source": [
    "# Two layers FFN\n",
    "\n",
    "We start with two layers - the readout layer is the softmax regression layer, and before that we will have a hidden layer that transforms the input features $\\mathbf{X_1}$ into complex features $\\mathbf{X_2}$: each feature in $\\mathbf{X_2}$ is a combination of all features in $\\mathbf{X_1}$.\n",
    "\n",
    "We already implemented these functions in the previous session:"
   ]
  },
  {
   "cell_type": "code",
   "execution_count": 6,
   "metadata": {},
   "outputs": [],
   "source": [
    "def fully_connected(ninputs, noutputs):\n",
    "    boundary = np.sqrt(6 / (ninputs + noutputs))\n",
    "    return np.random.uniform(-boundary, boundary, size=(ninputs, noutputs))\n",
    "\n",
    "def softmax(x):\n",
    "    expx = np.exp(x - x.max(axis=1, keepdims=True))\n",
    "    return expx / expx.sum(axis=1, keepdims=True)\n",
    "\n",
    "def accuracy(Yhat, Y):\n",
    "    return (Y.argmax(axis=1) == Yhat.argmax(axis=1)).mean()\n",
    "\n",
    "def cross_entropy(Yhat, Y):\n",
    "    ylogy = Y * np.log(Yhat)\n",
    "    return -ylogy.sum()"
   ]
  },
  {
   "cell_type": "markdown",
   "metadata": {},
   "source": [
    "# Exercise: ReLU\n",
    "The readout layer uses the softmax function $f_2(z)=softmax(z)$.\n",
    "What about $f_1(z)$?\n",
    "\n",
    "To add some non-linearity to the model, we want to use a non-linear function, usually called [*activation function*](https://en.wikipedia.org/wiki/Activation_function).\n",
    "For ease of use, we want a differentiable function that's easy and efficient to compute.\n",
    "\n",
    "There are several options we can use, and a common choise is the rectifier, or [*ReLU*](https://en.wikipedia.org/wiki/Rectifier_%28neural_networks%29) function:\n",
    "\n",
    "$$\n",
    "ReLU(x) = \\cases{x, & \\text{if}\\ x>0 \\\\ 0, & \\text{if}\\ x \\le 0}\n",
    "$$\n",
    "\n",
    "with a derivative\n",
    "\n",
    "$$\n",
    "ReLU'(x) = \\cases{1, & \\text{if}\\ x>0 \\\\ 0, & \\text{if}\\ x \\le 0}\n",
    "$$\n",
    "\n",
    "Implement these functions."
   ]
  },
  {
   "cell_type": "code",
   "execution_count": 7,
   "metadata": {},
   "outputs": [],
   "source": [
    "def ReLU(X):\n",
    "    pass\n",
    "\n",
    "def dReLu(X):\n",
    "    pass"
   ]
  },
  {
   "cell_type": "code",
   "execution_count": 12,
   "metadata": {},
   "outputs": [
    {
     "data": {
      "text/plain": [
       "array([6.24718126, 0.        , 4.06116808, 6.69329234, 0.        ])"
      ]
     },
     "execution_count": 12,
     "metadata": {},
     "output_type": "execute_result"
    }
   ],
   "source": [
    "%run -i ../solutions/FFN.py\n",
    "\n",
    "ReLU(np.random.uniform(-10, 10, 5))"
   ]
  },
  {
   "cell_type": "code",
   "execution_count": 13,
   "metadata": {},
   "outputs": [
    {
     "name": "stdout",
     "output_type": "stream",
     "text": [
      "[0.         8.60261352 0.         3.61967228 1.33502679]\n",
      "[0 1 0 1 1]\n"
     ]
    }
   ],
   "source": [
    "arr = np.random.uniform(-10, 10, 5)\n",
    "print(ReLU(arr))\n",
    "print(dReLU(arr))"
   ]
  },
  {
   "cell_type": "markdown",
   "metadata": {},
   "source": [
    "# Dropout\n",
    "\n",
    "A simple way to avoid overfitting is to use [*dropout*](https://www.cs.toronto.edu/~hinton/absps/JMLRdropout.pdf): randomly ignoring some elements of every layer during training (but not during prediction)."
   ]
  },
  {
   "cell_type": "code",
   "execution_count": 14,
   "metadata": {},
   "outputs": [],
   "source": [
    "def drop(X, keep_prob=1):\n",
    "    if keep_prob < 1:\n",
    "        X = X.copy() # we don't want to change X\n",
    "        keeps = np.random.rand(X.shape[1]) < keep_prob\n",
    "        # X.shape is (nsamples, nfeatures)\n",
    "        X[:, ~keeps] = 0 # ignore\n",
    "        X[:, keeps] *= (1/keep_prob) # normalize\n",
    "    return X"
   ]
  },
  {
   "cell_type": "markdown",
   "metadata": {},
   "source": [
    "# Feed Forward\n",
    "\n",
    "Next, we want to write a function that for given input $\\mathbf{X_1}$ calculates $\\mathbf{\\widehat Y}$.\n",
    "But we also want to get all the intermediate layers, not just the final layer (the output, result of the readout layer).\n",
    "The reason will become clear soon, when we write the back-propagation.\n",
    "\n",
    "Prediction is then done by taking the last layer."
   ]
  },
  {
   "cell_type": "code",
   "execution_count": 15,
   "metadata": {},
   "outputs": [],
   "source": [
    "def feed_forward(Ws, X, keep_prob=1):\n",
    "    X1 = X\n",
    "    W1, W2 = Ws\n",
    "    # hidden layer\n",
    "    Z1 = X1 @ W1 \n",
    "    Z1 = drop(Z1, keep_prob=keep_prob)\n",
    "    X2 = ReLU(Z1) \n",
    "    # readout layer\n",
    "    Z2 = X2 @ W2 \n",
    "    Yhat = softmax(Z2) \n",
    "    return [X1, Z1, X2, Z2, Yhat]\n",
    "\n",
    "def predict(Ws, X):\n",
    "    if X.ndim == 1:\n",
    "        X = X[np.newaxis, :]\n",
    "    return feed_forward(Ws, X, keep_prob=1)[-1]\n",
    "\n",
    "def display_prediction(idx):\n",
    "    prediction = predict(Ws, X_test[idx, :]).argmax()\n",
    "    print(prediction)\n",
    "    return display_image(X_test[idx])"
   ]
  },
  {
   "cell_type": "code",
   "execution_count": 16,
   "metadata": {},
   "outputs": [
    {
     "name": "stdout",
     "output_type": "stream",
     "text": [
      "1\n"
     ]
    },
    {
     "data": {
      "image/png": "[encoded data removed]",
      "text/plain": [
       "<Figure size 432x288 with 1 Axes>"
      ]
     },
     "metadata": {
      "image/png": {
       "height": 237,
       "width": 237
      }
     },
     "output_type": "display_data"
    }
   ],
   "source": [
    "nhidden = 100\n",
    "W1 = fully_connected(nfeatures, nhidden)\n",
    "W2 = fully_connected(nhidden, ncats)\n",
    "Ws = [W1, W2]\n",
    "\n",
    "display_prediction(0)"
   ]
  },
  {
   "cell_type": "markdown",
   "metadata": {},
   "source": [
    "# Exercise: feed-forward\n",
    "\n",
    "Rewrite `feed_forward` using a `for` loop so that it would work for any number of hidden layers."
   ]
  },
  {
   "cell_type": "code",
   "execution_count": 17,
   "metadata": {},
   "outputs": [],
   "source": [
    "def feed_forward(Ws, X, keep_prob=1):\n",
    "    pass"
   ]
  },
  {
   "cell_type": "code",
   "execution_count": 18,
   "metadata": {},
   "outputs": [
    {
     "name": "stdout",
     "output_type": "stream",
     "text": [
      "9\n"
     ]
    },
    {
     "data": {
      "image/png": "[encoded data removed]",
      "text/plain": [
       "<Figure size 432x288 with 1 Axes>"
      ]
     },
     "metadata": {
      "image/png": {
       "height": 237,
       "width": 237
      }
     },
     "output_type": "display_data"
    }
   ],
   "source": [
    "%run -i ../solutions/FFN.py\n",
    "\n",
    "nhidden = 100\n",
    "W1 = fully_connected(nfeatures, nhidden)\n",
    "W2 = fully_connected(nhidden, ncats)\n",
    "Ws = [W1, W2]\n",
    "\n",
    "display_prediction(0)"
   ]
  },
  {
   "cell_type": "markdown",
   "metadata": {},
   "source": [
    "# Back propagation\n",
    "\n",
    "We now arrive at the most complicated and important part: the calculation of the gradeints of the loss function with respect to the $\\mathbf{W_k}$ matrices - the model parameters, the weights of the network.\n",
    "\n",
    "Since we use the softmax function, the loss function is still the cross-entropy function $\\mathbf{J}(\\mathbf{W_1}, \\ldots, \\mathbf{W_n} \\mid \\mathbf{X_1}, \\mathbf{Y})$, the negative of the log-likelihood.\n",
    "\n",
    "We know how to do gradient descent, but we need to calculate the gradient.\n",
    "This seems at first very hard for a model as complex as:\n",
    "$$\n",
    "\\mathbf{Z_1} = \\mathbf{X_1} \\cdot  \\mathbf{W_1} \\\\\n",
    "\\mathbf{X_2} = f_1(\\mathbf{Z_1}) \\\\\n",
    "\\mathbf{Z_2} = \\mathbf{X_2} \\cdot \\mathbf{W_2} \\\\\n",
    "\\mathbf{X_3} = f_2(\\mathbf{Z_2}) \\\\\n",
    "\\ldots \\\\\n",
    "\\mathbf{\\widehat Y} = f_{n}(\\mathbf{Z_n}) \\\\\n",
    "\\mathbf{J} = - \\sum_{j=1}^{nsamples}{ \\sum_{k=1}^{ncats}{y_{j,k} \\log{\\widehat y_{j,k}}} }\n",
    "$$\n",
    "\n",
    "But we actually know how to calculate the gradient at each layer $\\frac{\\partial \\mathbf{X_k}}{\\partial \\mathbf{X_{k-1}}}$ so calculating the gradient with respect to any $\\mathbf{W_k}$ is just a matter of applying the chain rule as many times as we need.\n",
    "\n",
    "The idea is that we first calculate the loss function - **feed forward**.\n",
    "Then we apply the chain rule in reverse iteration to calculate the gradient of the loss function $\\mathbf{J}$ with respect to all $\\mathbf{W_k}$.\n",
    "Since the gradient at any layer is calculated as a function of the error measured in the previous layer, we essentially propagate the error backwards, thus the name for this algorithm - [**back propagation**](https://en.wikipedia.org/wiki/Backpropagation)."
   ]
  },
  {
   "cell_type": "markdown",
   "metadata": {},
   "source": [
    "To calculate $\\partial \\mathbf{J}/\\partial W_2$ we have the exact same calculation as in the [logistic](logistic-model.ipynb) or softmax model (makes sense as $\\mathbf{W_2}$ is the softmax layer)\n",
    "\n",
    "$$\n",
    "\\frac{\\partial \\mathbf{J}}{\\partial W_2} = \n",
    "\\frac{\\partial \\mathbf{J}}{\\partial \\widehat Y} \\cdot \\frac{\\partial \\widehat Y}{\\partial Z_2} \\cdot  \\frac{\\partial Z_2}{\\partial W_2}\n",
    "$$"
   ]
  },
  {
   "cell_type": "markdown",
   "metadata": {},
   "source": [
    "To calculate $\\partial \\mathbf{J}/\\partial \\mathbf{W_1}$ (which is a matrix with the same number of entries as $\\mathbf{W_1}$) we can use a similar but longer calculation as the readout layer:\n",
    "\n",
    "$$\n",
    "\\frac{\\partial \\mathbf{J}}{\\partial \\mathbf{W_1}} = \n",
    "\\frac{\\partial \\mathbf{J}}{\\partial \\mathbf{\\widehat Y}} \\cdot \\frac{\\partial \\mathbf{\\widehat Y}}{\\partial \\mathbf{Z_2}} \\cdot \\frac{\\partial \\mathbf{Z_2}}{\\partial \\mathbf{X_2}} \\cdot \\frac{\\partial \\mathbf{X_2}}{\\partial \\mathbf{Z_1}} \\cdot \\frac{\\partial \\mathbf{Z_1}}{\\partial \\mathbf{W_1}}\n",
    "$$\n",
    "\n",
    "Note that the first terms of this product were already calculated when calculating $\\frac{\\partial C}{\\partial \\mathbf{W_2}}$; the term \n",
    "\n",
    "$$\n",
    "\\delta_2 = \\frac{\\partial \\mathbf{J}}{\\partial \\mathbf{\\widehat Y}} \\cdot \\frac{\\partial \\mathbf{\\widehat Y}}{\\partial \\mathbf{Z_2}}\n",
    "$$\n",
    "\n",
    "is considered the error of the previous layer, and it is back-propagated to the next layer:\n",
    "\n",
    "$$\n",
    "\\frac{\\partial \\mathbf{J}}{\\partial \\mathbf{W_1}} = \n",
    "\\delta_2 \\cdot \\frac{\\partial \\mathbf{Z_2}}{\\partial \\mathbf{X_2}} \\cdot \\frac{\\partial \\mathbf{X_2}}{\\partial \\mathbf{Z_1}} \\cdot \\frac{\\partial \\mathbf{Z_1}}{\\partial \\mathbf{W_1}}\n",
    "$$"
   ]
  },
  {
   "cell_type": "markdown",
   "metadata": {},
   "source": [
    "These are three easy opeations:\n",
    "$$\n",
    "\\frac{\\partial \\mathbf{X_2}}{\\partial \\mathbf{Z_1}} = \\frac{\\partial ReLU{(\\mathbf{Z_1})}}{\\partial \\mathbf{Z_1}} = ReLU'(\\mathbf{Z_1}) \\\\\n",
    "\\frac{\\partial \\mathbf{Z_1}}{\\partial \\mathbf{W_1}}=\\frac{\\partial (\\mathbf{X_1} \\mathbf{W_1})}{\\partial \\mathbf{W_1}} = \\mathbf{X_1} \\\\\n",
    "\\frac{\\partial \\mathbf{Z_2}}{\\partial \\mathbf{X_2}} = \\frac{\\partial (\\mathbf{X_2} \\mathbf{W_2})}{\\partial \\mathbf{X_2}} = \\mathbf{W_2}\n",
    "$$\n",
    "\n",
    "In the next layer $\\delta_1$ is updated to \n",
    "$$\n",
    "\\delta_1 = \\delta_2 \\cdot \\frac{\\partial \\mathbf{Z_2}}{\\partial \\mathbf{X_2}} \\cdot \\frac{\\partial \\mathbf{X_2}}{\\partial \\mathbf{Z_1}} = \\delta_2 \\cdot W_2 \\cdot Relu'(Z_1),\n",
    "$$\n",
    "thus *propagating back* the error $\\delta$.\n",
    "\n",
    "Consider that in forwarding we use the matrix multiplication to activate each node as a weighted average of the previous nodes (the weights given by $\\mathbf{W_k}$). \n",
    "Back propagation can be considered the reverse operation.\n",
    "\n",
    "The actual operators used below are chosen to avoid loops (except the loop through the layers which is unavoiable) and to keep the correct dimensions - see the discussion in the [softmax model session](softmax-model.ipynb#Gradient-descent)."
   ]
  },
  {
   "cell_type": "code",
   "execution_count": 19,
   "metadata": {},
   "outputs": [],
   "source": [
    "def back_propagation(Ws, X, Y, keep_prob=1):\n",
    "    W1, W2 = Ws\n",
    "    X1, Z1, X2, Z2, Yhat = feed_forward(Ws, X, keep_prob=keep_prob)\n",
    "\n",
    "    # readout layer\n",
    "    δ2 = Yhat - Y # prediction error, dJ/dYhat * dYhat/dZ2 (-1, ncats)\n",
    "    dW2 = X2.T @ δ2 # dJ/dW2 = δ2 * dZ2/dX2 = δ2 * X2\n",
    "\n",
    "    # hidden layer\n",
    "    δ1 = (δ2 @ W2.T) * dReLU(Z1) # δ1 = dJ/dX_2 = δ2 * dZ2/dX2 * dX2/dZ1 = δ2 * W2 * ReLU(Z1)\n",
    "    dW1 = X1.T @ δ1 # dJ/dW1 = δ1 * dZ1/dW1 = δ1 * X1\n",
    "\n",
    "    gradients = [dW1, dW2]\n",
    "    # sanity checks\n",
    "    assert len(gradients) == len(Ws), (len(gradients), len(Ws))\n",
    "    for dW, W in zip(gradients, Ws):\n",
    "        assert dW.shape == W.shape, (dW.shape, W.shape)\n",
    "    return gradients"
   ]
  },
  {
   "cell_type": "code",
   "execution_count": 20,
   "metadata": {},
   "outputs": [
    {
     "data": {
      "image/png": "[encoded data removed]",
      "text/plain": [
       "<Figure size 1080x576 with 2 Axes>"
      ]
     },
     "metadata": {
      "image/png": {
       "height": 68,
       "width": 857
      }
     },
     "output_type": "display_data"
    }
   ],
   "source": [
    "nhidden = 100\n",
    "W1 = fully_connected(nfeatures, nhidden)\n",
    "W2 = fully_connected(nhidden, ncats)\n",
    "Ws = [W1, W2]\n",
    "\n",
    "X, Y = X_train[:5, :], Y_train[:5, :]\n",
    "\n",
    "dW1, dW2 = back_propagation(Ws, X, Y)\n",
    "fig, axes = plt.subplots(1, 2, figsize=(15, 8))\n",
    "axes[0].imshow(dW1.T, cmap='viridis')\n",
    "axes[1].imshow(dW2.T, cmap='viridis')\n",
    "axes[0].set(xticks=[], yticks=[])\n",
    "axes[1].set(xticks=[], yticks=[]);"
   ]
  },
  {
   "cell_type": "markdown",
   "metadata": {},
   "source": [
    "# Gradient checking\n",
    "\n",
    "Writing and implementing the gradient computation can be really hard.\n",
    "But there is a good way to sanity-check that we made the correct computation.\n",
    "\n",
    "Remember that the definition of a derivative is\n",
    "$$\n",
    "\\frac{d f}{d x}\\big(x\\big) = \\lim_{\\Delta \\to 0}{\\frac{f(x+\\Delta) - f(x-\\Delta)}{2\\Delta}}\n",
    "$$\n",
    "Therefore, we can compute the cross entropy at the params, then slightly change each parameter and compute the cross entropy again, and use these two computations as $f(x+\\Delta)$ and $f(x-\\Delta)$ where $x$ is the parameter we changed and $\\Delta$ is the slight change. \n",
    "Then we can compare $\\frac{f(x+\\Delta)-f(x-\\Delta)}{2\\Delta}$ to the gradient computed by back propagation and check that the difference is very small."
   ]
  },
  {
   "cell_type": "code",
   "execution_count": 22,
   "metadata": {},
   "outputs": [
    {
     "name": "stdout",
     "output_type": "stream",
     "text": [
      "W1\n"
     ]
    },
    {
     "name": "stderr",
     "output_type": "stream",
     "text": [
      "../solutions/FFN.py:20: RuntimeWarning: invalid value encountered in double_scalars\n",
      "  # hidden layer\n"
     ]
    },
    {
     "name": "stdout",
     "output_type": "stream",
     "text": [
      "W2\n"
     ]
    }
   ],
   "source": [
    "def loss(Ws, X, Y):\n",
    "    Yhat = predict(Ws, X)\n",
    "    return cross_entropy(Yhat, Y)\n",
    "\n",
    "def gradient_check(Ws, X, Y, Δ=1e-5):\n",
    "    dWs = back_propagation(Ws, X, Y, keep_prob=1)\n",
    "    Ws_ = [W.copy() for W in Ws]\n",
    "\n",
    "    for i, (W_, dW_) in enumerate(zip(Ws_, dWs)):\n",
    "        print('W{}'.format(i+1))\n",
    "        for i in range(W_.shape[0]):\n",
    "            for j in range(W_.shape[1]):\n",
    "                dw = dW_[i, j]\n",
    "                W_[i,j] += Δ\n",
    "                loss1 = loss(Ws_, X, Y)\n",
    "                W_[i,j] -= 2*Δ\n",
    "                loss2 = loss(Ws_, X, Y)\n",
    "                W_[i,j] += Δ\n",
    "                dw_ = (loss1 - loss2) / (2 * Δ)\n",
    "                rel_error = abs(dw - dw_) / abs(dw + dw_)\n",
    "                if not np.isclose(dw_, dw):\n",
    "                    print(i, j, dw, dw_, rel_error)\n",
    "\n",
    "nhidden = 10\n",
    "W1 = fully_connected(nfeatures, nhidden)\n",
    "W2 = fully_connected(nhidden, ncats)\n",
    "Ws = [W1, W2]\n",
    "X, Y = X_train[:100,:], Y_train[:100,:]\n",
    "gradient_check(Ws, X, Y)"
   ]
  },
  {
   "cell_type": "markdown",
   "metadata": {},
   "source": [
    "# Exercise: back propagation\n",
    "\n",
    "To make sure we understand back propagation, let's rewrite the `back_propagation` function with a `for` loop for networks with more than a single hidden layer.\n",
    "\n",
    "To use a visual debugger, fire up [Spyder](https://pythonhosted.org/spyder/) (installed with Anaconda). Switch to Variable Explorer in top right window. Spyder IDE was made to resemble MATLAB. If you want something more Visual Studio-y try the excellent [PyCharm](https://www.jetbrains.com/pycharm/) from JetBrains."
   ]
  },
  {
   "cell_type": "code",
   "execution_count": 24,
   "metadata": {},
   "outputs": [],
   "source": [
    "%run -i ../solutions/FFN.py # replace this line with your code"
   ]
  },
  {
   "cell_type": "code",
   "execution_count": 25,
   "metadata": {},
   "outputs": [
    {
     "name": "stdout",
     "output_type": "stream",
     "text": [
      "W1\n"
     ]
    },
    {
     "name": "stderr",
     "output_type": "stream",
     "text": [
      "../solutions/FFN.py:20: RuntimeWarning: invalid value encountered in double_scalars\n",
      "  # hidden layer\n"
     ]
    },
    {
     "name": "stdout",
     "output_type": "stream",
     "text": [
      "W2\n"
     ]
    }
   ],
   "source": [
    "# gradient check for 2 layers\n",
    "nhidden = 10\n",
    "W1 = fully_connected(nfeatures, nhidden)\n",
    "W2 = fully_connected(nhidden, ncats)\n",
    "Ws = [W1, W2]\n",
    "X, Y = X_train[:100,:], Y_train[:100,:]\n",
    "gradient_check(Ws, X, Y)"
   ]
  },
  {
   "cell_type": "code",
   "execution_count": 27,
   "metadata": {},
   "outputs": [
    {
     "name": "stdout",
     "output_type": "stream",
     "text": [
      "W1\n"
     ]
    },
    {
     "name": "stderr",
     "output_type": "stream",
     "text": [
      "../solutions/FFN.py:20: RuntimeWarning: invalid value encountered in double_scalars\n",
      "  # hidden layer\n"
     ]
    },
    {
     "name": "stdout",
     "output_type": "stream",
     "text": [
      "713 4 0.009298383473671089 0.00929826455831062 6.394451315302284e-06\n",
      "761 5 -1.3815830879974626e-06 -1.3642420526593921e-06 0.006315418662792978\n",
      "763 5 -0.00027459172967517274 -0.00027457645046524704 2.7822460365056456e-05\n",
      "764 4 -0.00010866732239666752 -0.00010868461686186491 7.956894820626669e-05\n",
      "764 5 -5.1308987992504185e-05 -5.134097591508179e-05 0.00031162137189259104\n",
      "W2\n",
      "W3\n"
     ]
    }
   ],
   "source": [
    "# gradient check for 3 layers\n",
    "nhidden = 10\n",
    "W1 = fully_connected(nfeatures, nhidden)\n",
    "W2 = fully_connected(nhidden, nhidden)\n",
    "W3 = fully_connected(nhidden, ncats)\n",
    "Ws = [W1, W2, W3]\n",
    "X, Y = X_train[:100,:], Y_train[:100,:]\n",
    "gradient_check(Ws, X, Y)"
   ]
  },
  {
   "cell_type": "markdown",
   "metadata": {},
   "source": [
    "# Adam optimizer\n",
    "\n",
    "There are many different ways to do stochastic gradient descent.\n",
    "Some of the algorithms adapt the learning rate $\\eta$ during training. \n",
    "The basic intuition is that when we are far from the minimum we want to advance in big steps and when we are near to the minimum we want to advance more carefully.\n",
    "\n",
    "The optimizer we are going to use is the [Adam optimizer](https://arxiv.org/pdf/1412.6980v9.pdf).\n",
    "The algorithm to calculate the learning rate is in the linked paper in *Algorithm 1*, and the code below uses a slightly different order of compuation for efficieny.\n",
    "\n",
    "Intuitively, we calculate the weighted running averages of the gradients $\\mathbf{m}$ and of the squared gradeints $\\mathbf{v}$, with memory parameters $\\beta_1, \\beta_2$ such that the most recent gradient has a weight of $1-\\beta_1$ and $1-\\beta_2$:\n",
    "\n",
    "$$\n",
    "\\mathbf{m} = \\beta_1 \\mathbf{m} + (1-\\beta_1) \\frac{\\partial C}{\\partial \\mathbf{W}} \\\\\n",
    "\\mathbf{v} = \\beta_2 \\mathbf{v} + (1-\\beta_2) \\Big(\\frac{\\partial C}{\\partial \\mathbf{W}}\\Big)^2\n",
    "$$\n",
    "\n",
    "The ratio of $\\frac{\\mathbf{m}}{\\sqrt{\\mathbf{v}}}$ is similar to a *signal-to-noise* ratio, and we use this ratio instead of the gradients in a gradient descent scheme to update the parameters $\\mathbf{W}$:\n",
    "\n",
    "$$\n",
    "\\mathbf{W} =  \\mathbf{W} - \\alpha \\frac{\\mathbf{m}}{\\sqrt{\\mathbf{v}}}\n",
    "$$\n",
    "\n",
    "See the [paper by Kingma and Ba](https://arxiv.org/pdf/1412.6980v9.pdf) for more details and comparison to other optimization strategies."
   ]
  },
  {
   "cell_type": "markdown",
   "metadata": {},
   "source": [
    "We implement the Adam optimizer using a generator function that given the `gradients` list, returns the updates $-\\alpha \\frac{\\mathbf{m}}{\\sqrt{\\mathbf{v}}}$.\n",
    "\n",
    "We use **Algorithm 1** from [Kingma and Ba](https://arxiv.org/pdf/1412.6980v9.pdf)."
   ]
  },
  {
   "cell_type": "markdown",
   "metadata": {},
   "source": [
    "Why the assertion? To find bugs. For example, replace `zip(v, gradients)` with `zip(m, gradients)` and the training procedure below will hit an assertion error.\n",
    "\n",
    "Here's the same optimizer implemented using a class instead of a generator function:"
   ]
  },
  {
   "cell_type": "code",
   "execution_count": 28,
   "metadata": {},
   "outputs": [],
   "source": [
    "def average(prev, curr, β):\n",
    "    return [\n",
    "        β * p + (1 - β) * c\n",
    "        for p, c\n",
    "        in zip(prev, curr)\n",
    "    ]\n",
    "    \n",
    "class AdamOptimizer:\n",
    "    def __init__(self, α=0.001, β1=0.9, β2=0.999, ϵ=1e-8):\n",
    "        self.α = α\n",
    "        self.β1 = β1\n",
    "        self.β2 = β2\n",
    "        self.ϵ = ϵ\n",
    "        self.m = None\n",
    "        self.v = None\n",
    "        self.t = 0\n",
    "\n",
    "    def send(self, gradients):\n",
    "        if self.m is None:\n",
    "            self.m = [0] * len(gradients)\n",
    "        if self.v is None:\n",
    "            self.v = [0] * len(gradients)\n",
    "\n",
    "        self.t += 1\n",
    "        αt = self.α * np.sqrt(1 - self.β2**self.t) / (1 - self.β1**self.t)\n",
    "        self.m = average(self.m, gradients, self.β1)        \n",
    "        self.v = average(self.v, (g*g for g in gradients), self.β2)\n",
    "\n",
    "        updates = [-αt * mi / (np.sqrt(vi) + self.ϵ) for mi, vi in zip(self.m, self.v)]\n",
    "        for upd in updates:\n",
    "            assert np.isfinite(upd).all()\n",
    "        return updates"
   ]
  },
  {
   "cell_type": "code",
   "execution_count": 29,
   "metadata": {},
   "outputs": [
    {
     "name": "stdout",
     "output_type": "stream",
     "text": [
      "[-0.0, -0.0, -0.0]\n",
      "[-0.0007441365882503311, -0.0007441365882503311, -0.0007441365882503311]\n",
      "[-0.0008584623637594434, -0.0008584623637594434, -0.0008584623637594434]\n"
     ]
    }
   ],
   "source": [
    "optimizer = AdamOptimizer()\n",
    "print(optimizer.send([0, 0, 0]))\n",
    "print(optimizer.send([1, 1, 1]))\n",
    "print(optimizer.send([1, 1, 1]))"
   ]
  },
  {
   "cell_type": "markdown",
   "metadata": {},
   "source": [
    "**Python bonus:** This optimizer is a perfect application of [generator functions](https://realpython.com/blog/python/introduction-to-python-generators/) because we need a function that has **state** - that remembers the previous values of $m$, $v$, and $t$.\n",
    "\n",
    "Briefly, a generator function creates a special kind of function called coroutine which suspends whenever it returns a value - this is called yielding - and can then be resumed by calling with `next` or `send` (the latter allows sending in arguments)."
   ]
  },
  {
   "cell_type": "code",
   "execution_count": 30,
   "metadata": {},
   "outputs": [],
   "source": [
    "def adam_optimizer(α=0.001, β1=0.9, β2=0.999, ϵ=1e-8):\n",
    "    gradients = yield\n",
    "    t = 0\n",
    "    m = [0] * len(gradients)\n",
    "    v = [0] * len(gradients)\n",
    "    while True:\n",
    "        t += 1\n",
    "        αt = α * np.sqrt(1 - β2**t) / (1 - β1**t)\n",
    "        m = average(m, gradients, β1)        \n",
    "        v = average(v, (g*g for g in gradients), β2)\n",
    "        \n",
    "        updates = [-αt * mi / (np.sqrt(vi) + ϵ) for mi, vi in zip(m, v)]\n",
    "        for upd in updates:\n",
    "            assert np.isfinite(upd).all()\n",
    "        gradients = yield updates"
   ]
  },
  {
   "cell_type": "code",
   "execution_count": 31,
   "metadata": {},
   "outputs": [
    {
     "name": "stdout",
     "output_type": "stream",
     "text": [
      "[-0.0, -0.0, -0.0]\n",
      "[-0.0007441365882503311, -0.0007441365882503311, -0.0007441365882503311]\n",
      "[-0.0008584623637594434, -0.0008584623637594434, -0.0008584623637594434]\n"
     ]
    }
   ],
   "source": [
    "optimizer = adam_optimizer() # generate\n",
    "next(optimizer) # init\n",
    "print(optimizer.send([0, 0, 0]))\n",
    "print(optimizer.send([1, 1, 1]))\n",
    "print(optimizer.send([1, 1, 1]))"
   ]
  },
  {
   "cell_type": "markdown",
   "metadata": {},
   "source": [
    "# Training the FFN"
   ]
  },
  {
   "cell_type": "markdown",
   "metadata": {},
   "source": [
    "Our `Trainer` is a bit different now, as it calls the  optimizer at each step to determine the updates. Otherwise it's fairly similar to the one we used in the [softmax model session](softmax-model.ipynb#Training)."
   ]
  },
  {
   "cell_type": "code",
   "execution_count": 32,
   "metadata": {},
   "outputs": [],
   "source": [
    "class Trainer:\n",
    "    def __init__(self, X, Y, batch_size=50, η=0.001, keep_prob=0.5):\n",
    "        self.X = X\n",
    "        self.Y = Y\n",
    "        self.epochs = 0\n",
    "        self.batches = 0\n",
    "        self.batch_size = batch_size\n",
    "        self.η = η\n",
    "        self.nsamples = X.shape[0]\n",
    "        self.keep_prob = keep_prob\n",
    "        self.optimizer = AdamOptimizer()\n",
    "        \n",
    "    def train(self, Ws):\n",
    "        self.batches += 1\n",
    "        self.epochs = self.batches * self.batch_size // self.nsamples\n",
    "        # get next batch\n",
    "        start = (self.batches * self.batch_size) % self.nsamples\n",
    "        stop = start + self.batch_size\n",
    "        batch_idx = range(start, stop)\n",
    "        X_, Y_ = self.X[batch_idx, :], self.Y[batch_idx, :]\n",
    "        # calculate gradients\n",
    "        dWs = back_propagation(Ws, X_, Y_, keep_prob=self.keep_prob)\n",
    "        # calculate updates\n",
    "        ΔWs = self.optimizer.send(dWs)        \n",
    "        # apply updates in place\n",
    "        # apply updates\n",
    "        for W, ΔW in zip(Ws, ΔWs):\n",
    "            W += ΔW"
   ]
  },
  {
   "cell_type": "markdown",
   "metadata": {},
   "source": [
    "Now we initialize two layers and calculate the inital accuracy.\n",
    "\n",
    "The input layer has 728 features, \"neurons\" or pixels; the readout later has 10 (categories).\n",
    "Let's set the hidden layer to have 100 \"neurons\"."
   ]
  },
  {
   "cell_type": "code",
   "execution_count": 33,
   "metadata": {},
   "outputs": [
    {
     "name": "stdout",
     "output_type": "stream",
     "text": [
      "Accuracy (0): 0.106\n"
     ]
    }
   ],
   "source": [
    "nhidden = 100\n",
    "W1 = fully_connected(nfeatures, nhidden)\n",
    "W2 = fully_connected(nhidden, ncats)\n",
    "Ws = [W1, W2]\n",
    "t = 0\n",
    "\n",
    "acc = accuracy(predict(Ws, X_test), Y_test)\n",
    "print(\"Accuracy ({}): {}\".format(t, acc))"
   ]
  },
  {
   "cell_type": "markdown",
   "metadata": {},
   "source": [
    "The accuracy we get is something around 0.1, depending on the specific random values of `W1` and `W2`.\n",
    "\n",
    "Let's train the model for 10 epochs (each time we go over all the images is called an *epoch*)."
   ]
  },
  {
   "cell_type": "code",
   "execution_count": 59,
   "metadata": {},
   "outputs": [
    {
     "name": "stdout",
     "output_type": "stream",
     "text": [
      "Accuracy (0): 0.9291\n"
     ]
    }
   ],
   "source": [
    "trainer = Trainer(X_train, Y_train)\n",
    "while trainer.epochs < 10:\n",
    "    trainer.train(Ws)\n",
    "\n",
    "acc = accuracy(predict(Ws, X_test), Y_test)\n",
    "print(\"Accuracy ({}): {}\".format(t, acc))"
   ]
  },
  {
   "cell_type": "markdown",
   "metadata": {},
   "source": [
    "So we got a significant increase in accuracy over the single-layer softmax model, which was ~89% after 10 epochs."
   ]
  },
  {
   "cell_type": "code",
   "execution_count": 60,
   "metadata": {},
   "outputs": [
    {
     "name": "stdout",
     "output_type": "stream",
     "text": [
      "0\n"
     ]
    },
    {
     "data": {
      "image/png": "[encoded data removed]",
      "text/plain": [
       "<Figure size 432x288 with 1 Axes>"
      ]
     },
     "metadata": {
      "image/png": {
       "height": 237,
       "width": 237
      }
     },
     "output_type": "display_data"
    }
   ],
   "source": [
    "display_prediction(10)"
   ]
  },
  {
   "cell_type": "markdown",
   "metadata": {},
   "source": [
    "We can keep training the model for more epochs, but the accuracy will not neccessarily increase:"
   ]
  },
  {
   "cell_type": "code",
   "execution_count": 61,
   "metadata": {},
   "outputs": [
    {
     "name": "stdout",
     "output_type": "stream",
     "text": [
      "Accuracy (0): 0.9215\n"
     ]
    }
   ],
   "source": [
    "while trainer.epochs < 15:\n",
    "    trainer.train(Ws)\n",
    "acc = accuracy(predict(Ws, X_test), Y_test)\n",
    "print(\"Accuracy ({}): {}\".format(t, acc))"
   ]
  },
  {
   "cell_type": "markdown",
   "metadata": {},
   "source": [
    "# Saving the model\n",
    "\n",
    "Saving the model is just a matter of saving `Ws` using NumPy's pickling function:"
   ]
  },
  {
   "cell_type": "code",
   "execution_count": 63,
   "metadata": {},
   "outputs": [
    {
     "name": "stdin",
     "output_type": "stream",
     "text": [
      "Are you sure? y\n"
     ]
    }
   ],
   "source": [
    "if input(\"Are you sure?\") == 'y':\n",
    "    np.savez_compressed('../data/FFN_MNIST_2layer.npz', Ws=Ws)"
   ]
  },
  {
   "cell_type": "code",
   "execution_count": 64,
   "metadata": {},
   "outputs": [],
   "source": [
    "with np.load('../data/FFN_MNIST_2layer.npz') as d:\n",
    "    Ws = d['Ws']"
   ]
  },
  {
   "cell_type": "code",
   "execution_count": 65,
   "metadata": {},
   "outputs": [
    {
     "name": "stdout",
     "output_type": "stream",
     "text": [
      "6\n"
     ]
    },
    {
     "data": {
      "image/png": "[encoded data removed]",
      "text/plain": [
       "<Figure size 432x288 with 1 Axes>"
      ]
     },
     "metadata": {
      "image/png": {
       "height": 237,
       "width": 237
      }
     },
     "output_type": "display_data"
    }
   ],
   "source": [
    "display_prediction(100)"
   ]
  },
  {
   "cell_type": "markdown",
   "metadata": {},
   "source": [
    "# More layers\n",
    "\n",
    "Of course we can now add any number of hidden layers.\n",
    "We will experience longer training time, and sometimes training will fail due to issues such as [exploding or diminishing gradients]().\n",
    "\n",
    "We can take care of the first problem by using a dedicated library like [TensorFlow](http://tensorflow.org) which is capable of efficiently fitting very large network both by clever implementation and by deploying the computation to multiple CPUs, cluster, and especially GPUs."
   ]
  },
  {
   "cell_type": "code",
   "execution_count": 34,
   "metadata": {},
   "outputs": [],
   "source": [
    "nhidden1 = 100\n",
    "nhidden2 = 100\n",
    "W1 = fully_connected(nfeatures, nhidden1)\n",
    "W2 = fully_connected(nhidden1, nhidden2)\n",
    "W3 = fully_connected(nhidden2, ncats)\n",
    "Ws = [W1, W2, W3]"
   ]
  },
  {
   "cell_type": "code",
   "execution_count": 35,
   "metadata": {},
   "outputs": [],
   "source": [
    "%run -i ../solutions/FFN.py # load feed_forward and back_propagation for multiple hidden layers"
   ]
  },
  {
   "cell_type": "code",
   "execution_count": 36,
   "metadata": {},
   "outputs": [
    {
     "name": "stdout",
     "output_type": "stream",
     "text": [
      "Accuracy: 0.1149\n"
     ]
    }
   ],
   "source": [
    "acc = accuracy(predict(Ws, X_test), Y_test)\n",
    "print(\"Accuracy:\", acc)"
   ]
  },
  {
   "cell_type": "code",
   "execution_count": null,
   "metadata": {},
   "outputs": [],
   "source": [
    "accs = [acc]\n",
    "trainer = Trainer(X_train, Y_train)\n",
    "while trainer.epochs < 100:\n",
    "    trainer.train(Ws)\n",
    "    if trainer.batches * trainer.batch_size % nsamples == 0: \n",
    "        acc = accuracy(predict(Ws, X_test), Y_test)\n",
    "        accs.append(acc)"
   ]
  },
  {
   "cell_type": "markdown",
   "metadata": {},
   "source": [
    "Let's see the development of the test accuracy over training time:"
   ]
  },
  {
   "cell_type": "code",
   "execution_count": 150,
   "metadata": {},
   "outputs": [
    {
     "name": "stdout",
     "output_type": "stream",
     "text": [
      "Final accuracy after 100 epochs: 0.8638\n"
     ]
    },
    {
     "data": {
      "image/png": "[encoded data removed]",
      "text/plain": [
       "<matplotlib.figure.Figure at 0x127666c88>"
      ]
     },
     "metadata": {},
     "output_type": "display_data"
    }
   ],
   "source": [
    "plt.plot(accs)\n",
    "plt.xlabel(\"Epoch\")\n",
    "plt.ylabel(\"Test accuracy\")\n",
    "plt.title(\"Two hidden layer feed forward classifier\")\n",
    "print(\"Final accuracy after {} epochs: {:.4f}\".format(trainer.epochs, accs[-1]))"
   ]
  },
  {
   "cell_type": "markdown",
   "metadata": {},
   "source": [
    "It seems that this two-hidden layer network is not as good as the one-layer net, or else maybe we just need to train it longer.\n",
    "\n",
    "Finally, let's save the model."
   ]
  },
  {
   "cell_type": "code",
   "execution_count": 51,
   "metadata": {},
   "outputs": [
    {
     "name": "stdout",
     "output_type": "stream",
     "text": [
      "Are you sure?y\n"
     ]
    }
   ],
   "source": [
    "if input(\"Are you sure?\") == 'y':\n",
    "    np.savez_compressed('../data/FFN_MNIST_3layer.npz', Ws=Ws)"
   ]
  },
  {
   "cell_type": "code",
   "execution_count": 30,
   "metadata": {},
   "outputs": [],
   "source": [
    "with np.load('../data/FFN_MNIST_3layer.npz') as d:\n",
    "    Ws = d['Ws']"
   ]
  },
  {
   "cell_type": "code",
   "execution_count": 31,
   "metadata": {},
   "outputs": [
    {
     "name": "stdout",
     "output_type": "stream",
     "text": [
      "0\n"
     ]
    },
    {
     "data": {
      "image/png": "[encoded data removed]",
      "text/plain": [
       "<Figure size 432x288 with 1 Axes>"
      ]
     },
     "metadata": {
      "image/png": {
       "height": 237,
       "width": 237
      }
     },
     "output_type": "display_data"
    }
   ],
   "source": [
    "display_prediction(55)"
   ]
  },
  {
   "cell_type": "markdown",
   "metadata": {},
   "source": [
    "# Problems\n",
    "\n",
    "One major problem is that FFN learns the relationship $W_{k,j}$ between pixel (feature) $x_j$ and digit (category) $k$, but if we move the pixels around without changing the category, the relationship is lost.\n",
    "The model sees the features as a sequence of length 728, and it doesn't \"know\" that it's actually a 2D matrix of 28x28.\n",
    "\n",
    "Because of that, it can't tell that a rotated 7 is still a 7:"
   ]
  },
  {
   "cell_type": "code",
   "execution_count": 37,
   "metadata": {},
   "outputs": [],
   "source": [
    "with np.load('../data/FFN_MNIST_2layer.npz') as d:\n",
    "    Ws = d['Ws']"
   ]
  },
  {
   "cell_type": "code",
   "execution_count": 38,
   "metadata": {},
   "outputs": [
    {
     "name": "stdout",
     "output_type": "stream",
     "text": [
      "5\n"
     ]
    },
    {
     "data": {
      "image/png": "[encoded data removed]",
      "text/plain": [
       "<Figure size 432x288 with 1 Axes>"
      ]
     },
     "metadata": {
      "image/png": {
       "height": 237,
       "width": 237
      }
     },
     "output_type": "display_data"
    }
   ],
   "source": [
    "im = X_train[0]\n",
    "print(predict(Ws, im).argmax())\n",
    "display_image(im)"
   ]
  },
  {
   "cell_type": "markdown",
   "metadata": {},
   "source": [
    "(`scipy.ndimage` has a bunch of useful image analysis functions, but also see *scikit-image*)"
   ]
  },
  {
   "cell_type": "code",
   "execution_count": 39,
   "metadata": {},
   "outputs": [
    {
     "data": {
      "text/plain": [
       "(784,)"
      ]
     },
     "execution_count": 39,
     "metadata": {},
     "output_type": "execute_result"
    }
   ],
   "source": [
    "import scipy.ndimage\n",
    "im.shape"
   ]
  },
  {
   "cell_type": "code",
   "execution_count": 40,
   "metadata": {},
   "outputs": [
    {
     "name": "stdout",
     "output_type": "stream",
     "text": [
      "0\n"
     ]
    },
    {
     "data": {
      "image/png": "[encoded data removed]",
      "text/plain": [
       "<Figure size 432x288 with 1 Axes>"
      ]
     },
     "metadata": {
      "image/png": {
       "height": 237,
       "width": 237
      }
     },
     "output_type": "display_data"
    }
   ],
   "source": [
    "rotated = scipy.ndimage.rotate(im.reshape((28, 28)), 90)\n",
    "print(predict(Ws, rotated.ravel()).argmax())\n",
    "display_image(rotated)"
   ]
  },
  {
   "cell_type": "code",
   "execution_count": 41,
   "metadata": {},
   "outputs": [
    {
     "data": {
      "image/png": "[encoded data removed]",
      "text/plain": [
       "<Figure size 432x288 with 1 Axes>"
      ]
     },
     "metadata": {
      "image/png": {
       "height": 254,
       "width": 379
      },
      "needs_background": "light"
     },
     "output_type": "display_data"
    }
   ],
   "source": [
    "plt.plot(im.ravel(), '.', label='original')\n",
    "plt.plot(rotated.ravel(), '.', label='rotated')\n",
    "plt.legend();"
   ]
  },
  {
   "cell_type": "markdown",
   "metadata": {},
   "source": [
    "A solution to this, which also offers other benefics such as faster training and more efficient memory use, is the use of *convolutional neural networks*, which use convolutions instead of fully connected (matrix multiplcation) layers.\n",
    "We will deal with such networks in [another session](CNN.ipynb)."
   ]
  },
  {
   "cell_type": "markdown",
   "metadata": {},
   "source": [
    "# Exercise\n",
    "\n",
    "Train a model and use it as a [generative model](../exercises/FFN_GenModel.ipynb)."
   ]
  },
  {
   "cell_type": "markdown",
   "metadata": {},
   "source": [
    "# References\n",
    "\n",
    "- [Deep Learning by Ian Goodfellow and Yoshua Bengio and Aaron Courville](http://www.deeplearningbook.org), ch. 6, 7.12, and 8 - offers a comprehensive introduction to the subject.\n",
    "- [Deep Learning: Technical introduction by Thomas Epelbaum](https://github.com/tomepel/Technical_Book_DL), ch. 4 - offers a very technical perspective with full derivation of all the formulas.\n",
    "\n",
    "Both books are available online for free."
   ]
  },
  {
   "cell_type": "markdown",
   "metadata": {},
   "source": [
    "# Colophon\n",
    "This notebook was written by [Yoav Ram](http://python.yoavram.com) and is part of the [_Data Science with Python_](https://python.yoavram.com/Deep4Devs) workshops.\n",
    "\n",
    "The notebook was written using [Python](http://python.org/) 3.6.3, [IPython](http://ipython.org/) 6.2.1, [Jupyter](http://jupyter.org) 5.1.0.\n",
    "\n",
    "This work is licensed under a CC BY-NC-SA 4.0 International License.\n",
    "\n",
    "![Python logo](https://www.python.org/static/community_logos/python-logo.png)"
   ]
  }
 ],
 "metadata": {
  "kernelspec": {
   "display_name": "Python [conda env:DataSciPy]",
   "language": "python",
   "name": "conda-env-DataSciPy-py"
  },
  "language_info": {
   "codemirror_mode": {
    "name": "ipython",
    "version": 3
   },
   "file_extension": ".py",
   "mimetype": "text/x-python",
   "name": "python",
   "nbconvert_exporter": "python",
   "pygments_lexer": "ipython3",
   "version": "3.6.6"
  }
 },
 "nbformat": 4,
 "nbformat_minor": 2
}
