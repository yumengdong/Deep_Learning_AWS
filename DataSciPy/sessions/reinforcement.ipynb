{
 "cells": [
  {
   "cell_type": "markdown",
   "metadata": {},
   "source": [
    "![Py4Eng](img/logo.png)\n",
    "\n",
    "# Reinforcement learning\n",
    "## Yoav Ram"
   ]
  },
  {
   "cell_type": "markdown",
   "metadata": {},
   "source": [
    "Reinforcement learning is a semi-supervied learning method in which we don't have target _per se_, but can still evaluate the value of model predictions, even if only after the fact.\n",
    "\n",
    "In many exmaples of reinforcement learning the model is trained to play a game.\n",
    "In this spirit, we'll train a model to play the simplest thinking game of all: tic-tac-toe, or X-O.\n",
    "\n",
    "![X-O](https://duckduckgo.com/i/60ac44b2.png)\n",
    "\n",
    "But there are many much more sophisticated examples and uses for RL, for example (click on the images to follow the links):\n",
    "\n",
    "[![pong](http://karpathy.github.io/assets/rl/pong.gif)](http://karpathy.github.io/2016/05/31/rl/)\n",
    "\n",
    "[![catch](https://edersantana.github.io/articles/keras_rl/catch.gif)](https://edersantana.github.io/articles/keras_rl/)\n",
    "\n",
    "[![jumping](https://www.cs.ubc.ca/~van/papers/2016-TOG-deepRL/dog_teaser.png)](https://www.cs.ubc.ca/~van/papers/2016-TOG-deepRL/index.html)\n",
    "\n",
    "[![AlphaGo](https://upload.wikimedia.org/wikipedia/commons/thumb/2/2a/FloorGoban.JPG/300px-FloorGoban.JPG)](https://deepmind.com/research/alphago/)\n"
   ]
  },
  {
   "cell_type": "code",
   "execution_count": 1,
   "metadata": {},
   "outputs": [
    {
     "name": "stderr",
     "output_type": "stream",
     "text": [
      "Using TensorFlow backend.\n"
     ]
    },
    {
     "name": "stdout",
     "output_type": "stream",
     "text": [
      "Keras 2.2.4\n",
      "GPU: []\n"
     ]
    }
   ],
   "source": [
    "%matplotlib inline\n",
    "import matplotlib.pyplot as plt\n",
    "import numpy as np\n",
    "import itertools\n",
    "import time\n",
    "import pickle\n",
    "from collections import defaultdict\n",
    "from IPython.display import HTML\n",
    "import keras\n",
    "print('Keras', keras.__version__)\n",
    "from keras import backend as K\n",
    "print('GPU:', K.tensorflow_backend._get_available_gpus())"
   ]
  },
  {
   "cell_type": "markdown",
   "metadata": {},
   "source": [
    "# Basic game elements\n",
    "\n",
    "We will model a board as an array of 18 elements. \n",
    "The first 9 are for player x and the last 9 are for player o.\n",
    "Each 9 elements represent a 3x3 board for that player, with ones where the player put her mark (x or o) and zeros where she didn't.\n",
    "\n",
    "The first function is for displaying a board."
   ]
  },
  {
   "cell_type": "code",
   "execution_count": 2,
   "metadata": {},
   "outputs": [
    {
     "data": {
      "text/html": [
       "<table><tr><td style='\n",
       "    width:2em;\n",
       "    height:2em;\n",
       "    border: 1px solid #000; \n",
       "    background: white;\n",
       "    text-align: center;\n",
       "    \n",
       "'> </td><td style='\n",
       "    width:2em;\n",
       "    height:2em;\n",
       "    border: 1px solid #000; \n",
       "    background: white;\n",
       "    text-align: center;\n",
       "    \n",
       "'> </td><td style='\n",
       "    width:2em;\n",
       "    height:2em;\n",
       "    border: 1px solid #000; \n",
       "    background: white;\n",
       "    text-align: center;\n",
       "    \n",
       "'> </td></tr><tr><td style='\n",
       "    width:2em;\n",
       "    height:2em;\n",
       "    border: 1px solid #000; \n",
       "    background: white;\n",
       "    text-align: center;\n",
       "    \n",
       "'> </td><td style='\n",
       "    width:2em;\n",
       "    height:2em;\n",
       "    border: 1px solid #000; \n",
       "    background: white;\n",
       "    text-align: center;\n",
       "    \n",
       "'>x</td><td style='\n",
       "    width:2em;\n",
       "    height:2em;\n",
       "    border: 1px solid #000; \n",
       "    background: white;\n",
       "    text-align: center;\n",
       "    \n",
       "'>o</td></tr><tr><td style='\n",
       "    width:2em;\n",
       "    height:2em;\n",
       "    border: 1px solid #000; \n",
       "    background: white;\n",
       "    text-align: center;\n",
       "    \n",
       "'> </td><td style='\n",
       "    width:2em;\n",
       "    height:2em;\n",
       "    border: 1px solid #000; \n",
       "    background: white;\n",
       "    text-align: center;\n",
       "    \n",
       "'> </td><td style='\n",
       "    width:2em;\n",
       "    height:2em;\n",
       "    border: 1px solid #000; \n",
       "    background: white;\n",
       "    text-align: center;\n",
       "    \n",
       "'>x</td></tr></table>"
      ],
      "text/plain": [
       "<IPython.core.display.HTML object>"
      ]
     },
     "execution_count": 2,
     "metadata": {},
     "output_type": "execute_result"
    }
   ],
   "source": [
    "int_to_str = {0: ' ', 1: 'x', 2: 'o'}\n",
    "css = \"\"\"\n",
    "    width:2em;\n",
    "    height:2em;\n",
    "    border: 1px solid #000; \n",
    "    background: white;\n",
    "    text-align: center;\n",
    "    \n",
    "\"\"\"\n",
    "def display(board):\n",
    "    board = (board[:9] + 2 * board[9:]).reshape((3, 3))\n",
    "    table = \"<table>\"\n",
    "    for i in range(3):\n",
    "        table += \"<tr>\"\n",
    "        for j in range(3):\n",
    "            table += \"<td style='{}'>{}</td>\".format(css, int_to_str[board[i,j]])\n",
    "        table += \"</tr>\"\n",
    "    table += \"</table>\"\n",
    "    return HTML(table.format(*board.ravel()))\n",
    "    \n",
    "board = np.zeros(18)\n",
    "board[4] = 1\n",
    "board[9 + 5] = 1\n",
    "board[8] = 1\n",
    "display(board)"
   ]
  },
  {
   "cell_type": "markdown",
   "metadata": {},
   "source": [
    "The next function checks if a move is legal, i.e., is not trying to put a mark where an x or o mark is already there."
   ]
  },
  {
   "cell_type": "code",
   "execution_count": 3,
   "metadata": {},
   "outputs": [],
   "source": [
    "def is_legal_move(board, move):\n",
    "    return 0 <= move < 9 and board[move] == 0 and board[9 + move] == 0"
   ]
  },
  {
   "cell_type": "code",
   "execution_count": 4,
   "metadata": {},
   "outputs": [
    {
     "name": "stdout",
     "output_type": "stream",
     "text": [
      "False False\n"
     ]
    },
    {
     "data": {
      "text/html": [
       "<table><tr><td style='\n",
       "    width:2em;\n",
       "    height:2em;\n",
       "    border: 1px solid #000; \n",
       "    background: white;\n",
       "    text-align: center;\n",
       "    \n",
       "'>x</td><td style='\n",
       "    width:2em;\n",
       "    height:2em;\n",
       "    border: 1px solid #000; \n",
       "    background: white;\n",
       "    text-align: center;\n",
       "    \n",
       "'> </td><td style='\n",
       "    width:2em;\n",
       "    height:2em;\n",
       "    border: 1px solid #000; \n",
       "    background: white;\n",
       "    text-align: center;\n",
       "    \n",
       "'> </td></tr><tr><td style='\n",
       "    width:2em;\n",
       "    height:2em;\n",
       "    border: 1px solid #000; \n",
       "    background: white;\n",
       "    text-align: center;\n",
       "    \n",
       "'> </td><td style='\n",
       "    width:2em;\n",
       "    height:2em;\n",
       "    border: 1px solid #000; \n",
       "    background: white;\n",
       "    text-align: center;\n",
       "    \n",
       "'> </td><td style='\n",
       "    width:2em;\n",
       "    height:2em;\n",
       "    border: 1px solid #000; \n",
       "    background: white;\n",
       "    text-align: center;\n",
       "    \n",
       "'> </td></tr><tr><td style='\n",
       "    width:2em;\n",
       "    height:2em;\n",
       "    border: 1px solid #000; \n",
       "    background: white;\n",
       "    text-align: center;\n",
       "    \n",
       "'> </td><td style='\n",
       "    width:2em;\n",
       "    height:2em;\n",
       "    border: 1px solid #000; \n",
       "    background: white;\n",
       "    text-align: center;\n",
       "    \n",
       "'> </td><td style='\n",
       "    width:2em;\n",
       "    height:2em;\n",
       "    border: 1px solid #000; \n",
       "    background: white;\n",
       "    text-align: center;\n",
       "    \n",
       "'> </td></tr></table>"
      ],
      "text/plain": [
       "<IPython.core.display.HTML object>"
      ]
     },
     "execution_count": 4,
     "metadata": {},
     "output_type": "execute_result"
    }
   ],
   "source": [
    "board = np.zeros(18)\n",
    "board[0] = 1\n",
    "print(is_legal_move(board, 0), is_legal_move(board, -1))\n",
    "display(board)"
   ]
  },
  {
   "cell_type": "markdown",
   "metadata": {},
   "source": [
    "Now a function that draws a random legal move."
   ]
  },
  {
   "cell_type": "code",
   "execution_count": 5,
   "metadata": {},
   "outputs": [],
   "source": [
    "def random_move(board):\n",
    "    board = board[:9] + board[9:]\n",
    "    board = board.reshape((3, 3))\n",
    "    empty = np.where(board.ravel() == 0)[0]\n",
    "    return np.random.choice(empty, 1)[0]"
   ]
  },
  {
   "cell_type": "code",
   "execution_count": 6,
   "metadata": {},
   "outputs": [
    {
     "data": {
      "text/html": [
       "<table><tr><td style='\n",
       "    width:2em;\n",
       "    height:2em;\n",
       "    border: 1px solid #000; \n",
       "    background: white;\n",
       "    text-align: center;\n",
       "    \n",
       "'> </td><td style='\n",
       "    width:2em;\n",
       "    height:2em;\n",
       "    border: 1px solid #000; \n",
       "    background: white;\n",
       "    text-align: center;\n",
       "    \n",
       "'>x</td><td style='\n",
       "    width:2em;\n",
       "    height:2em;\n",
       "    border: 1px solid #000; \n",
       "    background: white;\n",
       "    text-align: center;\n",
       "    \n",
       "'> </td></tr><tr><td style='\n",
       "    width:2em;\n",
       "    height:2em;\n",
       "    border: 1px solid #000; \n",
       "    background: white;\n",
       "    text-align: center;\n",
       "    \n",
       "'> </td><td style='\n",
       "    width:2em;\n",
       "    height:2em;\n",
       "    border: 1px solid #000; \n",
       "    background: white;\n",
       "    text-align: center;\n",
       "    \n",
       "'> </td><td style='\n",
       "    width:2em;\n",
       "    height:2em;\n",
       "    border: 1px solid #000; \n",
       "    background: white;\n",
       "    text-align: center;\n",
       "    \n",
       "'> </td></tr><tr><td style='\n",
       "    width:2em;\n",
       "    height:2em;\n",
       "    border: 1px solid #000; \n",
       "    background: white;\n",
       "    text-align: center;\n",
       "    \n",
       "'> </td><td style='\n",
       "    width:2em;\n",
       "    height:2em;\n",
       "    border: 1px solid #000; \n",
       "    background: white;\n",
       "    text-align: center;\n",
       "    \n",
       "'>o</td><td style='\n",
       "    width:2em;\n",
       "    height:2em;\n",
       "    border: 1px solid #000; \n",
       "    background: white;\n",
       "    text-align: center;\n",
       "    \n",
       "'>x</td></tr></table>"
      ],
      "text/plain": [
       "<IPython.core.display.HTML object>"
      ]
     },
     "execution_count": 6,
     "metadata": {},
     "output_type": "execute_result"
    }
   ],
   "source": [
    "board = np.zeros(18)\n",
    "board[random_move(board)] = 1\n",
    "board[9 + random_move(board)] = 1\n",
    "board[random_move(board)] = 1\n",
    "display(board)"
   ]
  },
  {
   "cell_type": "markdown",
   "metadata": {},
   "source": [
    "The next functions check if the board is full or if a specific player has won."
   ]
  },
  {
   "cell_type": "code",
   "execution_count": 7,
   "metadata": {},
   "outputs": [],
   "source": [
    "def is_full(board):\n",
    "    return (board[:9] + board[9:]).all()\n",
    "\n",
    "def is_winner(board, player):\n",
    "    board = board[9:] if player else board[:9]\n",
    "    board = board.reshape((3, 3))\n",
    "    if (board[0,:].all() or \n",
    "        board[1,:].all() or \n",
    "        board[2,:].all() or \n",
    "        board[:,0].all() or \n",
    "        board[:,1].all() or \n",
    "        board[:,2].all()):\n",
    "        return True\n",
    "    elif board[0,0] and board[1,1] and board[2,2]:\n",
    "        return True\n",
    "    elif board[0,2] and board[1,1] and board[2,0]:\n",
    "        return True\n",
    "    return False"
   ]
  },
  {
   "cell_type": "code",
   "execution_count": 8,
   "metadata": {},
   "outputs": [
    {
     "data": {
      "text/html": [
       "<table><tr><td style='\n",
       "    width:2em;\n",
       "    height:2em;\n",
       "    border: 1px solid #000; \n",
       "    background: white;\n",
       "    text-align: center;\n",
       "    \n",
       "'>o</td><td style='\n",
       "    width:2em;\n",
       "    height:2em;\n",
       "    border: 1px solid #000; \n",
       "    background: white;\n",
       "    text-align: center;\n",
       "    \n",
       "'>x</td><td style='\n",
       "    width:2em;\n",
       "    height:2em;\n",
       "    border: 1px solid #000; \n",
       "    background: white;\n",
       "    text-align: center;\n",
       "    \n",
       "'>x</td></tr><tr><td style='\n",
       "    width:2em;\n",
       "    height:2em;\n",
       "    border: 1px solid #000; \n",
       "    background: white;\n",
       "    text-align: center;\n",
       "    \n",
       "'>o</td><td style='\n",
       "    width:2em;\n",
       "    height:2em;\n",
       "    border: 1px solid #000; \n",
       "    background: white;\n",
       "    text-align: center;\n",
       "    \n",
       "'>o</td><td style='\n",
       "    width:2em;\n",
       "    height:2em;\n",
       "    border: 1px solid #000; \n",
       "    background: white;\n",
       "    text-align: center;\n",
       "    \n",
       "'>x</td></tr><tr><td style='\n",
       "    width:2em;\n",
       "    height:2em;\n",
       "    border: 1px solid #000; \n",
       "    background: white;\n",
       "    text-align: center;\n",
       "    \n",
       "'> </td><td style='\n",
       "    width:2em;\n",
       "    height:2em;\n",
       "    border: 1px solid #000; \n",
       "    background: white;\n",
       "    text-align: center;\n",
       "    \n",
       "'>x</td><td style='\n",
       "    width:2em;\n",
       "    height:2em;\n",
       "    border: 1px solid #000; \n",
       "    background: white;\n",
       "    text-align: center;\n",
       "    \n",
       "'>o</td></tr></table>"
      ],
      "text/plain": [
       "<IPython.core.display.HTML object>"
      ]
     },
     "execution_count": 8,
     "metadata": {},
     "output_type": "execute_result"
    }
   ],
   "source": [
    "board = np.zeros(18)\n",
    "player = 1\n",
    "while not is_winner(board, player) and not is_full(board):\n",
    "    player = (player + 1) % 2\n",
    "    move = random_move(board)\n",
    "    board[9*player + move] = 1    \n",
    "display(board)"
   ]
  },
  {
   "cell_type": "markdown",
   "metadata": {},
   "source": [
    "# Model\n",
    "\n",
    "We use Keras to build a simple model with one dense layer and a softmax readout layer.\n",
    "\n",
    "The model input is the current board as an array of 18 elements; the model output is a probability vector for the 9 possible moves (0-8)."
   ]
  },
  {
   "cell_type": "code",
   "execution_count": 9,
   "metadata": {},
   "outputs": [],
   "source": [
    "model = keras.models.Sequential()\n",
    "model.add(keras.layers.Dense(128, input_shape=(18,), activation='relu'))\n",
    "model.add(keras.layers.Dense(9))\n",
    "model.add(keras.layers.Activation('softmax'))"
   ]
  },
  {
   "cell_type": "markdown",
   "metadata": {},
   "source": [
    "We use the mean squared error as a loss function and a simple stochastic gradient descent optimizer."
   ]
  },
  {
   "cell_type": "code",
   "execution_count": 10,
   "metadata": {},
   "outputs": [],
   "source": [
    "model.compile(keras.optimizers.SGD(lr=.2), \"mse\")"
   ]
  },
  {
   "cell_type": "markdown",
   "metadata": {},
   "source": [
    "# Playing a game\n",
    "\n",
    "The model will be player x, and player o will be implemented with naive random moves.\n",
    "\n",
    "If the model wins, it gets a reward of 1. If it losses the reward is -1. Ties give a reward of 0.\n",
    "\n",
    "Note that although the model starts, the naive player has an advantage because it never plays an illegal move, so at least it knows the rules.\n",
    "The model, on the other hand, plays illegal moves and will be penalized for them: he losses (reward is -1) when it plays an illegal move.\n",
    "\n",
    "During a game, sometimes (with probability $\\epsilon$) we let the model choose a random move instead of the move it would choose using it's prediction function. This is done to add some noise and help get the model out of bad strategies. This strategy is called _exploration_.\n",
    "\n",
    "During the game we save at each step the prediction and the move that the model chose, and in the last step we also save the reward. \n",
    "That game \"memory\" is the result of the `play_game` function."
   ]
  },
  {
   "cell_type": "code",
   "execution_count": 11,
   "metadata": {},
   "outputs": [],
   "source": [
    "def play_game(verbose=False, ϵ= 0.1):\n",
    "    board = np.zeros(18, dtype=int)\n",
    "    memory = defaultdict(dict)\n",
    "\n",
    "    for t in range(5):\n",
    "        memory[t]['board'] = board.copy()\n",
    "\n",
    "        if is_full(board):\n",
    "            if verbose: print('board full')\n",
    "            memory[t]['reward'] = 0\n",
    "            break\n",
    "            \n",
    "        # player x\n",
    "        if np.random.rand() < ϵ:\n",
    "            pred = np.ones(9) / 9\n",
    "        else:\n",
    "            pred = model.predict(board.reshape(1,-1)).ravel() # predict gives (1,9)\n",
    "        move = np.random.multinomial(1, pred).argmax()\n",
    "        memory[t]['pred'] = pred\n",
    "        memory[t]['move'] = move\n",
    "\n",
    "        if not is_legal_move(board, move):\n",
    "            if verbose: print('illegal move by player x:', move)\n",
    "            memory[t]['reward'] = -1\n",
    "            break\n",
    "\n",
    "        board[move] = 1\n",
    "        \n",
    "        if is_winner(board, 0): \n",
    "            if verbose: print('player x wins')\n",
    "            memory[t]['reward'] = 1\n",
    "            break\n",
    "            \n",
    "        # player o\n",
    "        if is_full(board):\n",
    "            if verbose: print('board full')\n",
    "            memory[t]['reward'] = 0\n",
    "            break\n",
    "            \n",
    "        move = random_move(board)\n",
    "        board[9 + move] = 1\n",
    "        \n",
    "        if is_winner(board, 1): \n",
    "            if verbose: print('player o wins')\n",
    "            memory[t]['reward'] = -1\n",
    "            break\n",
    "    return [memory[k] for k in sorted(memory.keys())]"
   ]
  },
  {
   "cell_type": "markdown",
   "metadata": {},
   "source": [
    "# Training"
   ]
  },
  {
   "cell_type": "markdown",
   "metadata": {},
   "source": [
    "Before training the model player x is pretty bad, getting a negative average score and winning only ~10% of games."
   ]
  },
  {
   "cell_type": "code",
   "execution_count": 12,
   "metadata": {},
   "outputs": [
    {
     "name": "stdout",
     "output_type": "stream",
     "text": [
      "Average score -0.85\n",
      "x Won: 7.30%\n"
     ]
    }
   ],
   "source": [
    "scores = np.array([play_game(ϵ=0)[-1]['reward'] for _ in range(1000)])\n",
    "print('Average score {:.2f}'.format(scores.mean()))\n",
    "print('x Won: {:.2%}'.format((scores==1).mean()))"
   ]
  },
  {
   "cell_type": "markdown",
   "metadata": {},
   "source": [
    "Training on a single game is done by stacking the game boards (one for every x turn) as inputs ($X$).\n",
    "\n",
    "The targets ($Y$) is an array of zeros with the reward at the index of the move the model chose.\n",
    "\n",
    "So the model should try to increase the probability of choosing moves with reward of 1 (wins) and decrease the probability of choosing moves with reward -1."
   ]
  },
  {
   "cell_type": "code",
   "execution_count": 13,
   "metadata": {},
   "outputs": [],
   "source": [
    "def train_on_game(memory):\n",
    "    X = [] # boards\n",
    "    Y = [] # rewards\n",
    "    reward = memory[-1]['reward']\n",
    "    \n",
    "    for turn in memory:\n",
    "        board = turn['board']\n",
    "        X.append(board)\n",
    "        \n",
    "        y = np.zeros(9)\n",
    "        move = turn['move']\n",
    "        y[move] = reward\n",
    "        Y.append(y)\n",
    "\n",
    "    X = np.array(X)\n",
    "    Y = np.array(Y)\n",
    "    return model.train_on_batch(X, Y)"
   ]
  },
  {
   "cell_type": "markdown",
   "metadata": {},
   "source": [
    "Let's train the model."
   ]
  },
  {
   "cell_type": "code",
   "execution_count": 14,
   "metadata": {},
   "outputs": [
    {
     "name": "stdout",
     "output_type": "stream",
     "text": [
      "0: 0.2767 seconds, loss=0.14926552772521973\n",
      "10000: 17.0415 seconds, loss=0.14901472628116608\n",
      "20000: 16.5169 seconds, loss=0.15238027274608612\n",
      "30000: 16.6924 seconds, loss=0.15000814199447632\n",
      "40000: 16.7493 seconds, loss=0.1500995010137558\n",
      "50000: 16.8004 seconds, loss=0.14556358754634857\n",
      "60000: 16.8227 seconds, loss=0.09441013634204865\n",
      "70000: 16.7645 seconds, loss=0.09099067002534866\n",
      "80000: 16.9373 seconds, loss=0.15189170837402344\n",
      "90000: 16.9726 seconds, loss=0.09247449040412903\n"
     ]
    }
   ],
   "source": [
    "num_of_games = 100000\n",
    "tic = time.time()\n",
    "for i in range(num_of_games):\n",
    "    memory = play_game()\n",
    "    loss = train_on_game(memory)\n",
    "    if i % (num_of_games//10) == 0:\n",
    "        toc = time.time()\n",
    "        print(\"{}: {:.4f} seconds, loss={}\".format(i, toc-tic, loss))\n",
    "        tic = toc"
   ]
  },
  {
   "cell_type": "code",
   "execution_count": 15,
   "metadata": {},
   "outputs": [
    {
     "name": "stdout",
     "output_type": "stream",
     "text": [
      "Average score -0.35\n",
      "x Won: 32.00%\n"
     ]
    }
   ],
   "source": [
    "scores = np.array([play_game(ϵ=0)[-1]['reward'] for _ in range(1000)])\n",
    "print('Average score {:.2f}'.format(scores.mean()))\n",
    "print('x Won: {:.2%}'.format((scores==1).mean()))"
   ]
  },
  {
   "cell_type": "markdown",
   "metadata": {},
   "source": [
    "After training on 100,000 games the model still has a negative score, but wins ~34% of games rather than 10%."
   ]
  },
  {
   "cell_type": "code",
   "execution_count": 16,
   "metadata": {},
   "outputs": [
    {
     "name": "stdout",
     "output_type": "stream",
     "text": [
      "0: 0.0046 seconds, loss=0.15217572450637817\n",
      "40000: 67.8320 seconds, loss=0.07331334054470062\n",
      "80000: 68.0855 seconds, loss=0.1498451679944992\n",
      "120000: 68.2618 seconds, loss=0.09146779030561447\n",
      "160000: 67.2118 seconds, loss=0.06977465748786926\n",
      "200000: 67.0176 seconds, loss=0.06808637827634811\n",
      "240000: 68.8287 seconds, loss=0.06794822961091995\n",
      "280000: 66.8273 seconds, loss=0.14753609895706177\n",
      "320000: 66.7200 seconds, loss=0.1428232043981552\n",
      "360000: 66.7117 seconds, loss=0.15468254685401917\n"
     ]
    }
   ],
   "source": [
    "num_of_games = 400000\n",
    "tic = time.time()\n",
    "for i in range(num_of_games):\n",
    "    memory = play_game()\n",
    "    loss = train_on_game(memory)\n",
    "    if i % (num_of_games//10) == 0:\n",
    "        toc = time.time()\n",
    "        print(\"{}: {:.4f} seconds, loss={}\".format(i, toc-tic, loss))\n",
    "        tic = toc"
   ]
  },
  {
   "cell_type": "markdown",
   "metadata": {},
   "source": [
    "After 500,000 games, its already at 61% winning and a positive average score."
   ]
  },
  {
   "cell_type": "code",
   "execution_count": 17,
   "metadata": {},
   "outputs": [
    {
     "name": "stdout",
     "output_type": "stream",
     "text": [
      "Average score 0.34\n",
      "x Won: 66.70%\n"
     ]
    }
   ],
   "source": [
    "scores = np.array([play_game(ϵ=0)[-1]['reward'] for _ in range(1000)])\n",
    "print('Average score {:.2f}'.format(scores.mean()))\n",
    "print('x Won: {:.2%}'.format((scores==1).mean()))"
   ]
  },
  {
   "cell_type": "markdown",
   "metadata": {},
   "source": [
    "# Colophon\n",
    "This notebook was written by [Yoav Ram](http://python.yoavram.com) and is part of the [_Deep Learning for Software Developers_](https://python.yoavram.com/Deep4Devs) course.\n",
    "\n",
    "The notebook was written using [Python](http://python.org/) 3.6.3, [IPython](http://ipython.org/) 6.2.1, [Jupyter](http://jupyter.org) 5.1.0.\n",
    "\n",
    "This work is licensed under a CC BY-NC-SA 4.0 International License.\n",
    "\n",
    "![Python logo](https://www.python.org/static/community_logos/python-logo.png)"
   ]
  }
 ],
 "metadata": {
  "kernelspec": {
   "display_name": "Python [conda env:DataSciPy]",
   "language": "python",
   "name": "conda-env-DataSciPy-py"
  },
  "language_info": {
   "codemirror_mode": {
    "name": "ipython",
    "version": 3
   },
   "file_extension": ".py",
   "mimetype": "text/x-python",
   "name": "python",
   "nbconvert_exporter": "python",
   "pygments_lexer": "ipython3",
   "version": "3.6.6"
  }
 },
 "nbformat": 4,
 "nbformat_minor": 2
}
