{
 "cells": [
  {
   "cell_type": "markdown",
   "metadata": {},
   "source": [
    "# Exercise: Tennis\n",
    "\n",
    "In this exercise we will load the Tennis dataset (see [linear model session](linear-model.ipynb)), choose one of the datasets, and fit a logistic model to try and predict if the player won a game.\n",
    "\n",
    "Below you can see how I load a model fitted (`solutions/logistic_tennis.model`) with data for Rafael Nadal and columns `player1 aces`, `player1 double faults` as features, and use it to predict the result in a game in which Rafa had one ace and two double faults."
   ]
  },
  {
   "cell_type": "code",
   "execution_count": 1,
   "metadata": {},
   "outputs": [
    {
     "data": {
      "text/plain": [
       "array([ True], dtype=bool)"
      ]
     },
     "execution_count": 1,
     "metadata": {},
     "output_type": "execute_result"
    }
   ],
   "source": [
    "import pickle\n",
    "\n",
    "with open('../solutions/logistic_tennis.model', 'rb') as f:\n",
    "    model = pickle.load(f)\n",
    "\n",
    "model.predict([[1.0, 2.0]])"
   ]
  },
  {
   "cell_type": "markdown",
   "metadata": {},
   "source": [
    "Step-by-step instructions:\n",
    "\n",
    "- Use whatever table columns you want as features (i.e. independent variables, $x$s), see `df.columns` for ideas.\n",
    "- Create a new column that has a boolean specifiying if the plater won the game (see the columns `player1 name` and `winner`).\n",
    "- Create a regression model and fit it to the chosen data (using scikit, statsmodels, or our own hand-crafted).\n",
    "- Check the accuracy (score) of the fitted model.\n",
    "- Use the `pickle` model to dump the fitted model so it can be used again later for prediction or re-fitting.\n",
    "\n",
    "For bonus points:\n",
    "- Use [`sklearn.model_selection.train_test_split`](http://scikit-learn.org/stable/modules/generated/sklearn.model_selection.train_test_split.html#sklearn.model_selection.train_test_split) (click the link for docs) to split the `X` and `y` into a training and testing set.\n",
    "- Fit the model on the training set.\n",
    "- Score the model on the test set.\n",
    "\n",
    "Solution is given in [solutions/logistic_tennis.py](../solutions/logistic_tennis.py)."
   ]
  },
  {
   "cell_type": "code",
   "execution_count": null,
   "metadata": {},
   "outputs": [],
   "source": []
  }
 ],
 "metadata": {
  "kernelspec": {
   "display_name": "Python [conda env:Deep4Devs]",
   "language": "python",
   "name": "conda-env-Deep4Devs-py"
  },
  "language_info": {
   "codemirror_mode": {
    "name": "ipython",
    "version": 3
   },
   "file_extension": ".py",
   "mimetype": "text/x-python",
   "name": "python",
   "nbconvert_exporter": "python",
   "pygments_lexer": "ipython3",
   "version": "3.6.3"
  }
 },
 "nbformat": 4,
 "nbformat_minor": 2
}
