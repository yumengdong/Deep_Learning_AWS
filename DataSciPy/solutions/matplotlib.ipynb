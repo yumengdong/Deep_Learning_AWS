{
 "cells": [
  {
   "cell_type": "markdown",
   "metadata": {},
   "source": [
    "## Exercise 1"
   ]
  },
  {
   "cell_type": "code",
   "execution_count": null,
   "metadata": {},
   "outputs": [],
   "source": [
    "avg_inflammation = data.mean(axis=0)\n",
    "max_inflammation = data.max(axis=0)\n",
    "min_inflammation = data.min(axis=0)\n",
    "\n",
    "plt.plot(avg_inflammation, label='avg')\n",
    "plt.plot(max_inflammation, label='max')\n",
    "plt.plot(min_inflammation, label='min')\n",
    "plt.legend()\n",
    "plt.xlabel('day')\n",
    "plt.ylabel('inflammation');"
   ]
  },
  {
   "cell_type": "markdown",
   "metadata": {},
   "source": [
    "## Exercise 2"
   ]
  },
  {
   "cell_type": "code",
   "execution_count": null,
   "metadata": {},
   "outputs": [],
   "source": [
    "max_day = data.argmax(axis=1)\n",
    "\n",
    "plt.scatter(range(len(max_day)), max_day)\n",
    "plt.xlabel('patient')\n",
    "plt.ylabel('day of max inflammation');"
   ]
  },
  {
   "cell_type": "markdown",
   "metadata": {},
   "source": [
    "## Exercise 3"
   ]
  },
  {
   "cell_type": "code",
   "execution_count": null,
   "metadata": {},
   "outputs": [],
   "source": [
    "age = [0, 1, 2, 3, 4, 5]\n",
    "height = [0.3, 0.6, 0.9, 1.1, 1.2, 1.4]\n",
    "\n",
    "# your code here\n",
    "plt.bar(age, height)\n",
    "plt.xlabel('age')\n",
    "plt.ylabel('height');"
   ]
  },
  {
   "cell_type": "markdown",
   "metadata": {},
   "source": [
    "## Exercise 4"
   ]
  },
  {
   "cell_type": "code",
   "execution_count": null,
   "metadata": {},
   "outputs": [],
   "source": [
    "fig, axes = plt.subplots(3, 1)\n",
    "for name, y, ax in zip(names, ys, axes):\n",
    "    ax.plot(x, y)\n",
    "    ax.set_title(name)\n",
    "fig.tight_layout()"
   ]
  }
 ],
 "metadata": {
  "kernelspec": {
   "display_name": "Python [default]",
   "language": "python",
   "name": "python3"
  },
  "language_info": {
   "codemirror_mode": {
    "name": "ipython",
    "version": 3
   },
   "file_extension": ".py",
   "mimetype": "text/x-python",
   "name": "python",
   "nbconvert_exporter": "python",
   "pygments_lexer": "ipython3",
   "version": "3.6.5"
  }
 },
 "nbformat": 4,
 "nbformat_minor": 2
}
